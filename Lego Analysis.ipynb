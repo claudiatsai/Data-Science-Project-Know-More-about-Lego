{
 "cells": [
  {
   "cell_type": "code",
   "execution_count": 1,
   "metadata": {},
   "outputs": [],
   "source": [
    "import pandas as pd\n",
    "from matplotlib import pyplot as plt\n",
    "import numpy as np"
   ]
  },
  {
   "cell_type": "markdown",
   "metadata": {},
   "source": [
    "## 1. Data Source-csv file from Kaggle.com"
   ]
  },
  {
   "cell_type": "markdown",
   "metadata": {},
   "source": [
    "![title](img/lego1.jpg)"
   ]
  },
  {
   "cell_type": "markdown",
   "metadata": {},
   "source": [
    "## 1.1 Read Data"
   ]
  },
  {
   "cell_type": "code",
   "execution_count": 2,
   "metadata": {},
   "outputs": [],
   "source": [
    "df=pd.read_csv(\"legoset.csv\")"
   ]
  },
  {
   "cell_type": "code",
   "execution_count": 3,
   "metadata": {},
   "outputs": [
    {
     "data": {
      "text/html": [
       "<div>\n",
       "<style scoped>\n",
       "    .dataframe tbody tr th:only-of-type {\n",
       "        vertical-align: middle;\n",
       "    }\n",
       "\n",
       "    .dataframe tbody tr th {\n",
       "        vertical-align: top;\n",
       "    }\n",
       "\n",
       "    .dataframe thead th {\n",
       "        text-align: right;\n",
       "    }\n",
       "</style>\n",
       "<table border=\"1\" class=\"dataframe\">\n",
       "  <thead>\n",
       "    <tr style=\"text-align: right;\">\n",
       "      <th></th>\n",
       "      <th>ages</th>\n",
       "      <th>age range</th>\n",
       "      <th>list_price</th>\n",
       "      <th>num_reviews</th>\n",
       "      <th>piece_count</th>\n",
       "      <th>play_star_rating</th>\n",
       "      <th>prod_desc</th>\n",
       "      <th>prod_id</th>\n",
       "      <th>prod_long_desc</th>\n",
       "      <th>review_difficulty</th>\n",
       "      <th>set_name</th>\n",
       "      <th>star_rating</th>\n",
       "      <th>theme_name</th>\n",
       "      <th>val_star_rating</th>\n",
       "      <th>country</th>\n",
       "    </tr>\n",
       "  </thead>\n",
       "  <tbody>\n",
       "    <tr>\n",
       "      <th>0</th>\n",
       "      <td>6-12</td>\n",
       "      <td>NaN</td>\n",
       "      <td>29.9900</td>\n",
       "      <td>2.0</td>\n",
       "      <td>277</td>\n",
       "      <td>4.0</td>\n",
       "      <td>Catapult into action and take back the eggs fr...</td>\n",
       "      <td>75823</td>\n",
       "      <td>Use the staircase catapult to launch Red into ...</td>\n",
       "      <td>Average</td>\n",
       "      <td>Bird Island Egg Heist</td>\n",
       "      <td>4.5</td>\n",
       "      <td>Angry Birds™</td>\n",
       "      <td>4.0</td>\n",
       "      <td>US</td>\n",
       "    </tr>\n",
       "    <tr>\n",
       "      <th>1</th>\n",
       "      <td>6-12</td>\n",
       "      <td>NaN</td>\n",
       "      <td>19.9900</td>\n",
       "      <td>2.0</td>\n",
       "      <td>168</td>\n",
       "      <td>4.0</td>\n",
       "      <td>Launch a flying attack and rescue the eggs fro...</td>\n",
       "      <td>75822</td>\n",
       "      <td>Pilot Pig has taken off from Bird Island with ...</td>\n",
       "      <td>Easy</td>\n",
       "      <td>Piggy Plane Attack</td>\n",
       "      <td>5.0</td>\n",
       "      <td>Angry Birds™</td>\n",
       "      <td>4.0</td>\n",
       "      <td>US</td>\n",
       "    </tr>\n",
       "    <tr>\n",
       "      <th>2</th>\n",
       "      <td>6-12</td>\n",
       "      <td>NaN</td>\n",
       "      <td>12.9900</td>\n",
       "      <td>11.0</td>\n",
       "      <td>74</td>\n",
       "      <td>4.3</td>\n",
       "      <td>Chase the piggy with lightning-fast Chuck and ...</td>\n",
       "      <td>75821</td>\n",
       "      <td>Pitch speedy bird Chuck against the Piggy Car....</td>\n",
       "      <td>Easy</td>\n",
       "      <td>Piggy Car Escape</td>\n",
       "      <td>4.3</td>\n",
       "      <td>Angry Birds™</td>\n",
       "      <td>4.1</td>\n",
       "      <td>US</td>\n",
       "    </tr>\n",
       "    <tr>\n",
       "      <th>3</th>\n",
       "      <td>12+</td>\n",
       "      <td>NaN</td>\n",
       "      <td>99.9900</td>\n",
       "      <td>23.0</td>\n",
       "      <td>1032</td>\n",
       "      <td>3.6</td>\n",
       "      <td>Explore the architecture of the United States ...</td>\n",
       "      <td>21030</td>\n",
       "      <td>Discover the architectural secrets of the icon...</td>\n",
       "      <td>Average</td>\n",
       "      <td>United States Capitol Building</td>\n",
       "      <td>4.6</td>\n",
       "      <td>Architecture</td>\n",
       "      <td>4.3</td>\n",
       "      <td>US</td>\n",
       "    </tr>\n",
       "    <tr>\n",
       "      <th>4</th>\n",
       "      <td>12+</td>\n",
       "      <td>NaN</td>\n",
       "      <td>79.9900</td>\n",
       "      <td>14.0</td>\n",
       "      <td>744</td>\n",
       "      <td>3.2</td>\n",
       "      <td>Recreate the Solomon R. Guggenheim Museum® wit...</td>\n",
       "      <td>21035</td>\n",
       "      <td>Discover the architectural secrets of Frank Ll...</td>\n",
       "      <td>Challenging</td>\n",
       "      <td>Solomon R. Guggenheim Museum®</td>\n",
       "      <td>4.6</td>\n",
       "      <td>Architecture</td>\n",
       "      <td>4.1</td>\n",
       "      <td>US</td>\n",
       "    </tr>\n",
       "    <tr>\n",
       "      <th>...</th>\n",
       "      <td>...</td>\n",
       "      <td>...</td>\n",
       "      <td>...</td>\n",
       "      <td>...</td>\n",
       "      <td>...</td>\n",
       "      <td>...</td>\n",
       "      <td>...</td>\n",
       "      <td>...</td>\n",
       "      <td>...</td>\n",
       "      <td>...</td>\n",
       "      <td>...</td>\n",
       "      <td>...</td>\n",
       "      <td>...</td>\n",
       "      <td>...</td>\n",
       "      <td>...</td>\n",
       "    </tr>\n",
       "    <tr>\n",
       "      <th>12256</th>\n",
       "      <td>7-14</td>\n",
       "      <td>NaN</td>\n",
       "      <td>36.5878</td>\n",
       "      <td>6.0</td>\n",
       "      <td>341</td>\n",
       "      <td>4.4</td>\n",
       "      <td>Protect NINJAGO® City from flying Manta Ray Bo...</td>\n",
       "      <td>70609</td>\n",
       "      <td>Help Cole save Shen-Li in this cool THE LEGO® ...</td>\n",
       "      <td>Easy</td>\n",
       "      <td>Manta Ray Bomber</td>\n",
       "      <td>4.3</td>\n",
       "      <td>THE LEGO® NINJAGO® MOVIE™</td>\n",
       "      <td>4.2</td>\n",
       "      <td>PT</td>\n",
       "    </tr>\n",
       "    <tr>\n",
       "      <th>12257</th>\n",
       "      <td>7-14</td>\n",
       "      <td>NaN</td>\n",
       "      <td>24.3878</td>\n",
       "      <td>8.0</td>\n",
       "      <td>217</td>\n",
       "      <td>4.1</td>\n",
       "      <td>Stop a Piranha Attack with Kai and Misako!</td>\n",
       "      <td>70629</td>\n",
       "      <td>Play out an action-packed Piranha Mech pursuit...</td>\n",
       "      <td>Easy</td>\n",
       "      <td>Piranha Attack</td>\n",
       "      <td>3.6</td>\n",
       "      <td>THE LEGO® NINJAGO® MOVIE™</td>\n",
       "      <td>4.1</td>\n",
       "      <td>PT</td>\n",
       "    </tr>\n",
       "    <tr>\n",
       "      <th>12258</th>\n",
       "      <td>7-14</td>\n",
       "      <td>NaN</td>\n",
       "      <td>24.3878</td>\n",
       "      <td>18.0</td>\n",
       "      <td>233</td>\n",
       "      <td>4.6</td>\n",
       "      <td>Stop a crime in the NINJAGO® City street market!</td>\n",
       "      <td>70607</td>\n",
       "      <td>Team up with Lloyd Garmadon, Nya and Officer T...</td>\n",
       "      <td>Easy</td>\n",
       "      <td>NINJAGO® City Chase</td>\n",
       "      <td>4.6</td>\n",
       "      <td>THE LEGO® NINJAGO® MOVIE™</td>\n",
       "      <td>4.5</td>\n",
       "      <td>PT</td>\n",
       "    </tr>\n",
       "    <tr>\n",
       "      <th>12259</th>\n",
       "      <td>6-14</td>\n",
       "      <td>NaN</td>\n",
       "      <td>12.1878</td>\n",
       "      <td>1.0</td>\n",
       "      <td>48</td>\n",
       "      <td>5.0</td>\n",
       "      <td>Achieve Spinjitzu greatness with the Green Ninja!</td>\n",
       "      <td>70628</td>\n",
       "      <td>Learn all the skills of Spinjitzu with THE LEG...</td>\n",
       "      <td>Very Easy</td>\n",
       "      <td>Lloyd - Spinjitzu Master</td>\n",
       "      <td>5.0</td>\n",
       "      <td>THE LEGO® NINJAGO® MOVIE™</td>\n",
       "      <td>5.0</td>\n",
       "      <td>PT</td>\n",
       "    </tr>\n",
       "    <tr>\n",
       "      <th>12260</th>\n",
       "      <td>6-14</td>\n",
       "      <td>NaN</td>\n",
       "      <td>12.1878</td>\n",
       "      <td>11.0</td>\n",
       "      <td>109</td>\n",
       "      <td>4.5</td>\n",
       "      <td>Practice your Spinjitzu skills with Kai and Zane!</td>\n",
       "      <td>70606</td>\n",
       "      <td>Join the ninja heroes at the dojo with this ac...</td>\n",
       "      <td>Easy</td>\n",
       "      <td>Spinjitzu Training</td>\n",
       "      <td>4.7</td>\n",
       "      <td>THE LEGO® NINJAGO® MOVIE™</td>\n",
       "      <td>4.8</td>\n",
       "      <td>PT</td>\n",
       "    </tr>\n",
       "  </tbody>\n",
       "</table>\n",
       "<p>12261 rows × 15 columns</p>\n",
       "</div>"
      ],
      "text/plain": [
       "       ages age range  list_price  num_reviews  piece_count  play_star_rating  \\\n",
       "0      6-12       NaN     29.9900          2.0          277               4.0   \n",
       "1      6-12       NaN     19.9900          2.0          168               4.0   \n",
       "2      6-12       NaN     12.9900         11.0           74               4.3   \n",
       "3       12+       NaN     99.9900         23.0         1032               3.6   \n",
       "4       12+       NaN     79.9900         14.0          744               3.2   \n",
       "...     ...       ...         ...          ...          ...               ...   \n",
       "12256  7-14       NaN     36.5878          6.0          341               4.4   \n",
       "12257  7-14       NaN     24.3878          8.0          217               4.1   \n",
       "12258  7-14       NaN     24.3878         18.0          233               4.6   \n",
       "12259  6-14       NaN     12.1878          1.0           48               5.0   \n",
       "12260  6-14       NaN     12.1878         11.0          109               4.5   \n",
       "\n",
       "                                               prod_desc  prod_id  \\\n",
       "0      Catapult into action and take back the eggs fr...    75823   \n",
       "1      Launch a flying attack and rescue the eggs fro...    75822   \n",
       "2      Chase the piggy with lightning-fast Chuck and ...    75821   \n",
       "3      Explore the architecture of the United States ...    21030   \n",
       "4      Recreate the Solomon R. Guggenheim Museum® wit...    21035   \n",
       "...                                                  ...      ...   \n",
       "12256  Protect NINJAGO® City from flying Manta Ray Bo...    70609   \n",
       "12257         Stop a Piranha Attack with Kai and Misako!    70629   \n",
       "12258   Stop a crime in the NINJAGO® City street market!    70607   \n",
       "12259  Achieve Spinjitzu greatness with the Green Ninja!    70628   \n",
       "12260  Practice your Spinjitzu skills with Kai and Zane!    70606   \n",
       "\n",
       "                                          prod_long_desc review_difficulty  \\\n",
       "0      Use the staircase catapult to launch Red into ...           Average   \n",
       "1      Pilot Pig has taken off from Bird Island with ...              Easy   \n",
       "2      Pitch speedy bird Chuck against the Piggy Car....              Easy   \n",
       "3      Discover the architectural secrets of the icon...           Average   \n",
       "4      Discover the architectural secrets of Frank Ll...       Challenging   \n",
       "...                                                  ...               ...   \n",
       "12256  Help Cole save Shen-Li in this cool THE LEGO® ...              Easy   \n",
       "12257  Play out an action-packed Piranha Mech pursuit...              Easy   \n",
       "12258  Team up with Lloyd Garmadon, Nya and Officer T...              Easy   \n",
       "12259  Learn all the skills of Spinjitzu with THE LEG...         Very Easy   \n",
       "12260  Join the ninja heroes at the dojo with this ac...              Easy   \n",
       "\n",
       "                             set_name  star_rating                 theme_name  \\\n",
       "0               Bird Island Egg Heist          4.5               Angry Birds™   \n",
       "1                  Piggy Plane Attack          5.0               Angry Birds™   \n",
       "2                    Piggy Car Escape          4.3               Angry Birds™   \n",
       "3      United States Capitol Building          4.6               Architecture   \n",
       "4       Solomon R. Guggenheim Museum®          4.6               Architecture   \n",
       "...                               ...          ...                        ...   \n",
       "12256                Manta Ray Bomber          4.3  THE LEGO® NINJAGO® MOVIE™   \n",
       "12257                  Piranha Attack          3.6  THE LEGO® NINJAGO® MOVIE™   \n",
       "12258             NINJAGO® City Chase          4.6  THE LEGO® NINJAGO® MOVIE™   \n",
       "12259        Lloyd - Spinjitzu Master          5.0  THE LEGO® NINJAGO® MOVIE™   \n",
       "12260              Spinjitzu Training          4.7  THE LEGO® NINJAGO® MOVIE™   \n",
       "\n",
       "       val_star_rating country  \n",
       "0                  4.0      US  \n",
       "1                  4.0      US  \n",
       "2                  4.1      US  \n",
       "3                  4.3      US  \n",
       "4                  4.1      US  \n",
       "...                ...     ...  \n",
       "12256              4.2      PT  \n",
       "12257              4.1      PT  \n",
       "12258              4.5      PT  \n",
       "12259              5.0      PT  \n",
       "12260              4.8      PT  \n",
       "\n",
       "[12261 rows x 15 columns]"
      ]
     },
     "execution_count": 3,
     "metadata": {},
     "output_type": "execute_result"
    }
   ],
   "source": [
    "df"
   ]
  },
  {
   "cell_type": "code",
   "execution_count": 4,
   "metadata": {},
   "outputs": [
    {
     "data": {
      "text/plain": [
       "(12261, 15)"
      ]
     },
     "execution_count": 4,
     "metadata": {},
     "output_type": "execute_result"
    }
   ],
   "source": [
    "df.shape"
   ]
  },
  {
   "cell_type": "code",
   "execution_count": 5,
   "metadata": {},
   "outputs": [
    {
     "name": "stdout",
     "output_type": "stream",
     "text": [
      "<class 'pandas.core.frame.DataFrame'>\n",
      "RangeIndex: 12261 entries, 0 to 12260\n",
      "Data columns (total 15 columns):\n",
      " #   Column             Non-Null Count  Dtype  \n",
      "---  ------             --------------  -----  \n",
      " 0   ages               12261 non-null  object \n",
      " 1   age range          326 non-null    object \n",
      " 2   list_price         12261 non-null  float64\n",
      " 3   num_reviews        10641 non-null  float64\n",
      " 4   piece_count        12261 non-null  int64  \n",
      " 5   play_star_rating   10486 non-null  float64\n",
      " 6   prod_desc          11884 non-null  object \n",
      " 7   prod_id            12261 non-null  int64  \n",
      " 8   prod_long_desc     12261 non-null  object \n",
      " 9   review_difficulty  10206 non-null  object \n",
      " 10  set_name           12261 non-null  object \n",
      " 11  star_rating        10641 non-null  float64\n",
      " 12  theme_name         12258 non-null  object \n",
      " 13  val_star_rating    10466 non-null  float64\n",
      " 14  country            12261 non-null  object \n",
      "dtypes: float64(5), int64(2), object(8)\n",
      "memory usage: 1.4+ MB\n"
     ]
    }
   ],
   "source": [
    "df.info()"
   ]
  },
  {
   "cell_type": "markdown",
   "metadata": {},
   "source": [
    "## 2.1 The most and least expesive lego set"
   ]
  },
  {
   "cell_type": "code",
   "execution_count": 6,
   "metadata": {},
   "outputs": [
    {
     "data": {
      "text/plain": [
       "1104.87"
      ]
     },
     "execution_count": 6,
     "metadata": {},
     "output_type": "execute_result"
    }
   ],
   "source": [
    "max(df['list_price'])"
   ]
  },
  {
   "cell_type": "code",
   "execution_count": 7,
   "metadata": {},
   "outputs": [
    {
     "data": {
      "text/html": [
       "<div>\n",
       "<style scoped>\n",
       "    .dataframe tbody tr th:only-of-type {\n",
       "        vertical-align: middle;\n",
       "    }\n",
       "\n",
       "    .dataframe tbody tr th {\n",
       "        vertical-align: top;\n",
       "    }\n",
       "\n",
       "    .dataframe thead th {\n",
       "        text-align: right;\n",
       "    }\n",
       "</style>\n",
       "<table border=\"1\" class=\"dataframe\">\n",
       "  <thead>\n",
       "    <tr style=\"text-align: right;\">\n",
       "      <th></th>\n",
       "      <th>ages</th>\n",
       "      <th>age range</th>\n",
       "      <th>list_price</th>\n",
       "      <th>num_reviews</th>\n",
       "      <th>piece_count</th>\n",
       "      <th>play_star_rating</th>\n",
       "      <th>prod_desc</th>\n",
       "      <th>prod_id</th>\n",
       "      <th>prod_long_desc</th>\n",
       "      <th>review_difficulty</th>\n",
       "      <th>set_name</th>\n",
       "      <th>star_rating</th>\n",
       "      <th>theme_name</th>\n",
       "      <th>val_star_rating</th>\n",
       "      <th>country</th>\n",
       "    </tr>\n",
       "  </thead>\n",
       "  <tbody>\n",
       "    <tr>\n",
       "      <th>9979</th>\n",
       "      <td>16+</td>\n",
       "      <td>NaN</td>\n",
       "      <td>1104.87</td>\n",
       "      <td>198.0</td>\n",
       "      <td>7541</td>\n",
       "      <td>4.0</td>\n",
       "      <td>Travel the LEGO® galaxy in the ultimate Millen...</td>\n",
       "      <td>75192</td>\n",
       "      <td>Welcome to the largest, most detailed LEGO® St...</td>\n",
       "      <td>Challenging</td>\n",
       "      <td>Millennium Falcon™</td>\n",
       "      <td>4.8</td>\n",
       "      <td>Star Wars™</td>\n",
       "      <td>4.4</td>\n",
       "      <td>NO</td>\n",
       "    </tr>\n",
       "  </tbody>\n",
       "</table>\n",
       "</div>"
      ],
      "text/plain": [
       "     ages age range  list_price  num_reviews  piece_count  play_star_rating  \\\n",
       "9979  16+       NaN     1104.87        198.0         7541               4.0   \n",
       "\n",
       "                                              prod_desc  prod_id  \\\n",
       "9979  Travel the LEGO® galaxy in the ultimate Millen...    75192   \n",
       "\n",
       "                                         prod_long_desc review_difficulty  \\\n",
       "9979  Welcome to the largest, most detailed LEGO® St...       Challenging   \n",
       "\n",
       "                set_name  star_rating  theme_name  val_star_rating country  \n",
       "9979  Millennium Falcon™          4.8  Star Wars™              4.4      NO  "
      ]
     },
     "execution_count": 7,
     "metadata": {},
     "output_type": "execute_result"
    }
   ],
   "source": [
    "df.query('list_price==1104.87')"
   ]
  },
  {
   "cell_type": "code",
   "execution_count": 8,
   "metadata": {},
   "outputs": [
    {
     "data": {
      "text/plain": [
       "2.2724"
      ]
     },
     "execution_count": 8,
     "metadata": {},
     "output_type": "execute_result"
    }
   ],
   "source": [
    "min(df['list_price'])"
   ]
  },
  {
   "cell_type": "code",
   "execution_count": 9,
   "metadata": {},
   "outputs": [
    {
     "data": {
      "text/html": [
       "<div>\n",
       "<style scoped>\n",
       "    .dataframe tbody tr th:only-of-type {\n",
       "        vertical-align: middle;\n",
       "    }\n",
       "\n",
       "    .dataframe tbody tr th {\n",
       "        vertical-align: top;\n",
       "    }\n",
       "\n",
       "    .dataframe thead th {\n",
       "        text-align: right;\n",
       "    }\n",
       "</style>\n",
       "<table border=\"1\" class=\"dataframe\">\n",
       "  <thead>\n",
       "    <tr style=\"text-align: right;\">\n",
       "      <th></th>\n",
       "      <th>ages</th>\n",
       "      <th>age range</th>\n",
       "      <th>list_price</th>\n",
       "      <th>num_reviews</th>\n",
       "      <th>piece_count</th>\n",
       "      <th>play_star_rating</th>\n",
       "      <th>prod_desc</th>\n",
       "      <th>prod_id</th>\n",
       "      <th>prod_long_desc</th>\n",
       "      <th>review_difficulty</th>\n",
       "      <th>set_name</th>\n",
       "      <th>star_rating</th>\n",
       "      <th>theme_name</th>\n",
       "      <th>val_star_rating</th>\n",
       "      <th>country</th>\n",
       "    </tr>\n",
       "  </thead>\n",
       "  <tbody>\n",
       "    <tr>\n",
       "      <th>912</th>\n",
       "      <td>4+</td>\n",
       "      <td>NaN</td>\n",
       "      <td>2.2724</td>\n",
       "      <td>180.0</td>\n",
       "      <td>1</td>\n",
       "      <td>4.0</td>\n",
       "      <td>Everyone needs one!</td>\n",
       "      <td>630</td>\n",
       "      <td>This tool makes it a snap to pull those small ...</td>\n",
       "      <td>Very Easy</td>\n",
       "      <td>Brick Separator</td>\n",
       "      <td>4.8</td>\n",
       "      <td>Classic</td>\n",
       "      <td>4.6</td>\n",
       "      <td>AU</td>\n",
       "    </tr>\n",
       "  </tbody>\n",
       "</table>\n",
       "</div>"
      ],
      "text/plain": [
       "    ages age range  list_price  num_reviews  piece_count  play_star_rating  \\\n",
       "912   4+       NaN      2.2724        180.0            1               4.0   \n",
       "\n",
       "               prod_desc  prod_id  \\\n",
       "912  Everyone needs one!      630   \n",
       "\n",
       "                                        prod_long_desc review_difficulty  \\\n",
       "912  This tool makes it a snap to pull those small ...         Very Easy   \n",
       "\n",
       "            set_name  star_rating theme_name  val_star_rating country  \n",
       "912  Brick Separator          4.8    Classic              4.6      AU  "
      ]
     },
     "execution_count": 9,
     "metadata": {},
     "output_type": "execute_result"
    }
   ],
   "source": [
    "df.query('list_price==2.2724')"
   ]
  },
  {
   "cell_type": "markdown",
   "metadata": {},
   "source": [
    "## 2.2 The highest pieces count Lego Set"
   ]
  },
  {
   "cell_type": "code",
   "execution_count": 10,
   "metadata": {},
   "outputs": [
    {
     "data": {
      "text/plain": [
       "7541"
      ]
     },
     "execution_count": 10,
     "metadata": {},
     "output_type": "execute_result"
    }
   ],
   "source": [
    "max(df['piece_count'])"
   ]
  },
  {
   "cell_type": "code",
   "execution_count": 11,
   "metadata": {},
   "outputs": [
    {
     "data": {
      "text/html": [
       "<div>\n",
       "<style scoped>\n",
       "    .dataframe tbody tr th:only-of-type {\n",
       "        vertical-align: middle;\n",
       "    }\n",
       "\n",
       "    .dataframe tbody tr th {\n",
       "        vertical-align: top;\n",
       "    }\n",
       "\n",
       "    .dataframe thead th {\n",
       "        text-align: right;\n",
       "    }\n",
       "</style>\n",
       "<table border=\"1\" class=\"dataframe\">\n",
       "  <thead>\n",
       "    <tr style=\"text-align: right;\">\n",
       "      <th></th>\n",
       "      <th>ages</th>\n",
       "      <th>age range</th>\n",
       "      <th>list_price</th>\n",
       "      <th>num_reviews</th>\n",
       "      <th>piece_count</th>\n",
       "      <th>play_star_rating</th>\n",
       "      <th>prod_desc</th>\n",
       "      <th>prod_id</th>\n",
       "      <th>prod_long_desc</th>\n",
       "      <th>review_difficulty</th>\n",
       "      <th>set_name</th>\n",
       "      <th>star_rating</th>\n",
       "      <th>theme_name</th>\n",
       "      <th>val_star_rating</th>\n",
       "      <th>country</th>\n",
       "    </tr>\n",
       "  </thead>\n",
       "  <tbody>\n",
       "    <tr>\n",
       "      <th>694</th>\n",
       "      <td>16+</td>\n",
       "      <td>NaN</td>\n",
       "      <td>799.9900</td>\n",
       "      <td>197.0</td>\n",
       "      <td>7541</td>\n",
       "      <td>4.0</td>\n",
       "      <td>Travel the LEGO® galaxy in the ultimate Millen...</td>\n",
       "      <td>75192</td>\n",
       "      <td>Welcome to the largest, most detailed LEGO® St...</td>\n",
       "      <td>Challenging</td>\n",
       "      <td>Millennium Falcon™</td>\n",
       "      <td>4.8</td>\n",
       "      <td>Star Wars™</td>\n",
       "      <td>4.4</td>\n",
       "      <td>US</td>\n",
       "    </tr>\n",
       "    <tr>\n",
       "      <th>1320</th>\n",
       "      <td>16+</td>\n",
       "      <td>NaN</td>\n",
       "      <td>987.9924</td>\n",
       "      <td>198.0</td>\n",
       "      <td>7541</td>\n",
       "      <td>4.0</td>\n",
       "      <td>Travel the LEGO® galaxy in the ultimate Millen...</td>\n",
       "      <td>75192</td>\n",
       "      <td>Welcome to the largest, most detailed LEGO® St...</td>\n",
       "      <td>Challenging</td>\n",
       "      <td>Millennium Falcon™</td>\n",
       "      <td>4.8</td>\n",
       "      <td>Star Wars™</td>\n",
       "      <td>4.4</td>\n",
       "      <td>AU</td>\n",
       "    </tr>\n",
       "    <tr>\n",
       "      <th>1897</th>\n",
       "      <td>16+</td>\n",
       "      <td>NaN</td>\n",
       "      <td>975.9878</td>\n",
       "      <td>198.0</td>\n",
       "      <td>7541</td>\n",
       "      <td>4.0</td>\n",
       "      <td>Travel the LEGO® galaxy in the ultimate Millen...</td>\n",
       "      <td>75192</td>\n",
       "      <td>Welcome to the largest, most detailed LEGO® St...</td>\n",
       "      <td>Challenging</td>\n",
       "      <td>Millennium Falcon™</td>\n",
       "      <td>4.8</td>\n",
       "      <td>Star Wars™</td>\n",
       "      <td>4.4</td>\n",
       "      <td>AT</td>\n",
       "    </tr>\n",
       "    <tr>\n",
       "      <th>2462</th>\n",
       "      <td>16+</td>\n",
       "      <td>NaN</td>\n",
       "      <td>1035.7800</td>\n",
       "      <td>198.0</td>\n",
       "      <td>7541</td>\n",
       "      <td>4.0</td>\n",
       "      <td>Travel the LEGO® galaxy in the ultimate Millen...</td>\n",
       "      <td>75192</td>\n",
       "      <td>Welcome to the largest, most detailed LEGO® St...</td>\n",
       "      <td>Challenging</td>\n",
       "      <td>Millennium Falcon™</td>\n",
       "      <td>4.8</td>\n",
       "      <td>Star Wars™</td>\n",
       "      <td>4.4</td>\n",
       "      <td>BE</td>\n",
       "    </tr>\n",
       "    <tr>\n",
       "      <th>3220</th>\n",
       "      <td>16+</td>\n",
       "      <td>NaN</td>\n",
       "      <td>701.9922</td>\n",
       "      <td>198.0</td>\n",
       "      <td>7541</td>\n",
       "      <td>4.0</td>\n",
       "      <td>Travel the LEGO® galaxy in the ultimate Millen...</td>\n",
       "      <td>75192</td>\n",
       "      <td>Welcome to the largest, most detailed LEGO® St...</td>\n",
       "      <td>Challenging</td>\n",
       "      <td>Millennium Falcon™</td>\n",
       "      <td>4.8</td>\n",
       "      <td>Star Wars™</td>\n",
       "      <td>4.4</td>\n",
       "      <td>CA</td>\n",
       "    </tr>\n",
       "    <tr>\n",
       "      <th>3844</th>\n",
       "      <td>16+</td>\n",
       "      <td>NaN</td>\n",
       "      <td>967.9800</td>\n",
       "      <td>198.0</td>\n",
       "      <td>7541</td>\n",
       "      <td>4.0</td>\n",
       "      <td>Travel the LEGO® galaxy in the ultimate Millen...</td>\n",
       "      <td>75192</td>\n",
       "      <td>Welcome to the largest, most detailed LEGO® St...</td>\n",
       "      <td>Challenging</td>\n",
       "      <td>Millennium Falcon™</td>\n",
       "      <td>4.8</td>\n",
       "      <td>Star Wars™</td>\n",
       "      <td>4.4</td>\n",
       "      <td>CH</td>\n",
       "    </tr>\n",
       "    <tr>\n",
       "      <th>4396</th>\n",
       "      <td>16+</td>\n",
       "      <td>NaN</td>\n",
       "      <td>955.2000</td>\n",
       "      <td>198.0</td>\n",
       "      <td>7541</td>\n",
       "      <td>4.0</td>\n",
       "      <td>Travel the LEGO® galaxy in the ultimate Millen...</td>\n",
       "      <td>75192</td>\n",
       "      <td>Welcome to the largest, most detailed LEGO® St...</td>\n",
       "      <td>Challenging</td>\n",
       "      <td>Millennium Falcon™</td>\n",
       "      <td>4.8</td>\n",
       "      <td>Star Wars™</td>\n",
       "      <td>4.4</td>\n",
       "      <td>CZ</td>\n",
       "    </tr>\n",
       "    <tr>\n",
       "      <th>4944</th>\n",
       "      <td>16+</td>\n",
       "      <td>NaN</td>\n",
       "      <td>974.7800</td>\n",
       "      <td>198.0</td>\n",
       "      <td>7541</td>\n",
       "      <td>4.0</td>\n",
       "      <td>Travel the LEGO® galaxy in the ultimate Millen...</td>\n",
       "      <td>75192</td>\n",
       "      <td>Welcome to the largest, most detailed LEGO® St...</td>\n",
       "      <td>Challenging</td>\n",
       "      <td>Millennium Falcon™</td>\n",
       "      <td>4.8</td>\n",
       "      <td>Star Wars™</td>\n",
       "      <td>4.4</td>\n",
       "      <td>DE</td>\n",
       "    </tr>\n",
       "    <tr>\n",
       "      <th>5517</th>\n",
       "      <td>16+</td>\n",
       "      <td>NaN</td>\n",
       "      <td>839.8800</td>\n",
       "      <td>197.0</td>\n",
       "      <td>7541</td>\n",
       "      <td>4.0</td>\n",
       "      <td>Travel the LEGO® galaxy in the ultimate Millen...</td>\n",
       "      <td>75192</td>\n",
       "      <td>Welcome to the largest, most detailed LEGO® St...</td>\n",
       "      <td>Challenging</td>\n",
       "      <td>Millennium Falcon™</td>\n",
       "      <td>4.8</td>\n",
       "      <td>Star Wars™</td>\n",
       "      <td>4.4</td>\n",
       "      <td>DN</td>\n",
       "    </tr>\n",
       "    <tr>\n",
       "      <th>6068</th>\n",
       "      <td>16+</td>\n",
       "      <td>NaN</td>\n",
       "      <td>974.7800</td>\n",
       "      <td>198.0</td>\n",
       "      <td>7541</td>\n",
       "      <td>4.0</td>\n",
       "      <td>Travel the LEGO® galaxy in the ultimate Millen...</td>\n",
       "      <td>75192</td>\n",
       "      <td>Welcome to the largest, most detailed LEGO® St...</td>\n",
       "      <td>Challenging</td>\n",
       "      <td>Millennium Falcon™</td>\n",
       "      <td>4.8</td>\n",
       "      <td>Star Wars™</td>\n",
       "      <td>4.4</td>\n",
       "      <td>ES</td>\n",
       "    </tr>\n",
       "    <tr>\n",
       "      <th>6617</th>\n",
       "      <td>16+</td>\n",
       "      <td>NaN</td>\n",
       "      <td>1097.9390</td>\n",
       "      <td>198.0</td>\n",
       "      <td>7541</td>\n",
       "      <td>4.0</td>\n",
       "      <td>Travel the LEGO® galaxy in the ultimate Millen...</td>\n",
       "      <td>75192</td>\n",
       "      <td>Welcome to the largest, most detailed LEGO® St...</td>\n",
       "      <td>Challenging</td>\n",
       "      <td>Millennium Falcon™</td>\n",
       "      <td>4.8</td>\n",
       "      <td>Star Wars™</td>\n",
       "      <td>4.4</td>\n",
       "      <td>FI</td>\n",
       "    </tr>\n",
       "    <tr>\n",
       "      <th>7184</th>\n",
       "      <td>16+</td>\n",
       "      <td>NaN</td>\n",
       "      <td>975.9878</td>\n",
       "      <td>198.0</td>\n",
       "      <td>7541</td>\n",
       "      <td>4.0</td>\n",
       "      <td>Travel the LEGO® galaxy in the ultimate Millen...</td>\n",
       "      <td>75192</td>\n",
       "      <td>Welcome to the largest, most detailed LEGO® St...</td>\n",
       "      <td>Challenging</td>\n",
       "      <td>Millennium Falcon™</td>\n",
       "      <td>4.8</td>\n",
       "      <td>Star Wars™</td>\n",
       "      <td>4.4</td>\n",
       "      <td>FR</td>\n",
       "    </tr>\n",
       "    <tr>\n",
       "      <th>7759</th>\n",
       "      <td>16+</td>\n",
       "      <td>NaN</td>\n",
       "      <td>909.9860</td>\n",
       "      <td>197.0</td>\n",
       "      <td>7541</td>\n",
       "      <td>4.0</td>\n",
       "      <td>Travel the LEGO® galaxy in the ultimate Millen...</td>\n",
       "      <td>75192</td>\n",
       "      <td>Welcome to the largest, most detailed LEGO® St...</td>\n",
       "      <td>Challenging</td>\n",
       "      <td>Millennium Falcon™</td>\n",
       "      <td>4.8</td>\n",
       "      <td>Star Wars™</td>\n",
       "      <td>4.4</td>\n",
       "      <td>GB</td>\n",
       "    </tr>\n",
       "    <tr>\n",
       "      <th>8328</th>\n",
       "      <td>16+</td>\n",
       "      <td>NaN</td>\n",
       "      <td>974.7800</td>\n",
       "      <td>198.0</td>\n",
       "      <td>7541</td>\n",
       "      <td>4.0</td>\n",
       "      <td>Travel the LEGO® galaxy in the ultimate Millen...</td>\n",
       "      <td>75192</td>\n",
       "      <td>Welcome to the largest, most detailed LEGO® St...</td>\n",
       "      <td>Challenging</td>\n",
       "      <td>Millennium Falcon™</td>\n",
       "      <td>4.8</td>\n",
       "      <td>Star Wars™</td>\n",
       "      <td>4.4</td>\n",
       "      <td>IE</td>\n",
       "    </tr>\n",
       "    <tr>\n",
       "      <th>8880</th>\n",
       "      <td>16+</td>\n",
       "      <td>NaN</td>\n",
       "      <td>975.9878</td>\n",
       "      <td>198.0</td>\n",
       "      <td>7541</td>\n",
       "      <td>4.0</td>\n",
       "      <td>Travel the LEGO® galaxy in the ultimate Millen...</td>\n",
       "      <td>75192</td>\n",
       "      <td>Welcome to the largest, most detailed LEGO® St...</td>\n",
       "      <td>Challenging</td>\n",
       "      <td>Millennium Falcon™</td>\n",
       "      <td>4.8</td>\n",
       "      <td>Star Wars™</td>\n",
       "      <td>4.4</td>\n",
       "      <td>IT</td>\n",
       "    </tr>\n",
       "    <tr>\n",
       "      <th>9430</th>\n",
       "      <td>16+</td>\n",
       "      <td>NaN</td>\n",
       "      <td>1035.7800</td>\n",
       "      <td>198.0</td>\n",
       "      <td>7541</td>\n",
       "      <td>4.0</td>\n",
       "      <td>Travel the LEGO® galaxy in the ultimate Millen...</td>\n",
       "      <td>75192</td>\n",
       "      <td>Welcome to the largest, most detailed LEGO® St...</td>\n",
       "      <td>Challenging</td>\n",
       "      <td>Millennium Falcon™</td>\n",
       "      <td>4.8</td>\n",
       "      <td>Star Wars™</td>\n",
       "      <td>4.4</td>\n",
       "      <td>LU</td>\n",
       "    </tr>\n",
       "    <tr>\n",
       "      <th>9979</th>\n",
       "      <td>16+</td>\n",
       "      <td>NaN</td>\n",
       "      <td>1104.8700</td>\n",
       "      <td>198.0</td>\n",
       "      <td>7541</td>\n",
       "      <td>4.0</td>\n",
       "      <td>Travel the LEGO® galaxy in the ultimate Millen...</td>\n",
       "      <td>75192</td>\n",
       "      <td>Welcome to the largest, most detailed LEGO® St...</td>\n",
       "      <td>Challenging</td>\n",
       "      <td>Millennium Falcon™</td>\n",
       "      <td>4.8</td>\n",
       "      <td>Star Wars™</td>\n",
       "      <td>4.4</td>\n",
       "      <td>NO</td>\n",
       "    </tr>\n",
       "    <tr>\n",
       "      <th>10552</th>\n",
       "      <td>16+</td>\n",
       "      <td>NaN</td>\n",
       "      <td>1035.7800</td>\n",
       "      <td>198.0</td>\n",
       "      <td>7541</td>\n",
       "      <td>4.0</td>\n",
       "      <td>Travel the LEGO® galaxy in the ultimate Millen...</td>\n",
       "      <td>75192</td>\n",
       "      <td>Welcome to the largest, most detailed LEGO® St...</td>\n",
       "      <td>Challenging</td>\n",
       "      <td>Millennium Falcon™</td>\n",
       "      <td>4.8</td>\n",
       "      <td>Star Wars™</td>\n",
       "      <td>4.4</td>\n",
       "      <td>NL</td>\n",
       "    </tr>\n",
       "    <tr>\n",
       "      <th>11120</th>\n",
       "      <td>16+</td>\n",
       "      <td>NaN</td>\n",
       "      <td>1064.9929</td>\n",
       "      <td>198.0</td>\n",
       "      <td>7541</td>\n",
       "      <td>4.0</td>\n",
       "      <td>Travel the LEGO® galaxy in the ultimate Millen...</td>\n",
       "      <td>75192</td>\n",
       "      <td>Welcome to the largest, most detailed LEGO® St...</td>\n",
       "      <td>Challenging</td>\n",
       "      <td>Millennium Falcon™</td>\n",
       "      <td>4.8</td>\n",
       "      <td>Star Wars™</td>\n",
       "      <td>4.4</td>\n",
       "      <td>NZ</td>\n",
       "    </tr>\n",
       "    <tr>\n",
       "      <th>11653</th>\n",
       "      <td>16+</td>\n",
       "      <td>NaN</td>\n",
       "      <td>1015.0000</td>\n",
       "      <td>198.0</td>\n",
       "      <td>7541</td>\n",
       "      <td>4.0</td>\n",
       "      <td>Travel the LEGO® galaxy in the ultimate Millen...</td>\n",
       "      <td>75192</td>\n",
       "      <td>Welcome to the largest, most detailed LEGO® St...</td>\n",
       "      <td>Challenging</td>\n",
       "      <td>Millennium Falcon™</td>\n",
       "      <td>4.8</td>\n",
       "      <td>Star Wars™</td>\n",
       "      <td>4.4</td>\n",
       "      <td>PL</td>\n",
       "    </tr>\n",
       "    <tr>\n",
       "      <th>12197</th>\n",
       "      <td>16+</td>\n",
       "      <td>NaN</td>\n",
       "      <td>974.7800</td>\n",
       "      <td>198.0</td>\n",
       "      <td>7541</td>\n",
       "      <td>4.0</td>\n",
       "      <td>Travel the LEGO® galaxy in the ultimate Millen...</td>\n",
       "      <td>75192</td>\n",
       "      <td>Welcome to the largest, most detailed LEGO® St...</td>\n",
       "      <td>Challenging</td>\n",
       "      <td>Millennium Falcon™</td>\n",
       "      <td>4.8</td>\n",
       "      <td>Star Wars™</td>\n",
       "      <td>4.4</td>\n",
       "      <td>PT</td>\n",
       "    </tr>\n",
       "  </tbody>\n",
       "</table>\n",
       "</div>"
      ],
      "text/plain": [
       "      ages age range  list_price  num_reviews  piece_count  play_star_rating  \\\n",
       "694    16+       NaN    799.9900        197.0         7541               4.0   \n",
       "1320   16+       NaN    987.9924        198.0         7541               4.0   \n",
       "1897   16+       NaN    975.9878        198.0         7541               4.0   \n",
       "2462   16+       NaN   1035.7800        198.0         7541               4.0   \n",
       "3220   16+       NaN    701.9922        198.0         7541               4.0   \n",
       "3844   16+       NaN    967.9800        198.0         7541               4.0   \n",
       "4396   16+       NaN    955.2000        198.0         7541               4.0   \n",
       "4944   16+       NaN    974.7800        198.0         7541               4.0   \n",
       "5517   16+       NaN    839.8800        197.0         7541               4.0   \n",
       "6068   16+       NaN    974.7800        198.0         7541               4.0   \n",
       "6617   16+       NaN   1097.9390        198.0         7541               4.0   \n",
       "7184   16+       NaN    975.9878        198.0         7541               4.0   \n",
       "7759   16+       NaN    909.9860        197.0         7541               4.0   \n",
       "8328   16+       NaN    974.7800        198.0         7541               4.0   \n",
       "8880   16+       NaN    975.9878        198.0         7541               4.0   \n",
       "9430   16+       NaN   1035.7800        198.0         7541               4.0   \n",
       "9979   16+       NaN   1104.8700        198.0         7541               4.0   \n",
       "10552  16+       NaN   1035.7800        198.0         7541               4.0   \n",
       "11120  16+       NaN   1064.9929        198.0         7541               4.0   \n",
       "11653  16+       NaN   1015.0000        198.0         7541               4.0   \n",
       "12197  16+       NaN    974.7800        198.0         7541               4.0   \n",
       "\n",
       "                                               prod_desc  prod_id  \\\n",
       "694    Travel the LEGO® galaxy in the ultimate Millen...    75192   \n",
       "1320   Travel the LEGO® galaxy in the ultimate Millen...    75192   \n",
       "1897   Travel the LEGO® galaxy in the ultimate Millen...    75192   \n",
       "2462   Travel the LEGO® galaxy in the ultimate Millen...    75192   \n",
       "3220   Travel the LEGO® galaxy in the ultimate Millen...    75192   \n",
       "3844   Travel the LEGO® galaxy in the ultimate Millen...    75192   \n",
       "4396   Travel the LEGO® galaxy in the ultimate Millen...    75192   \n",
       "4944   Travel the LEGO® galaxy in the ultimate Millen...    75192   \n",
       "5517   Travel the LEGO® galaxy in the ultimate Millen...    75192   \n",
       "6068   Travel the LEGO® galaxy in the ultimate Millen...    75192   \n",
       "6617   Travel the LEGO® galaxy in the ultimate Millen...    75192   \n",
       "7184   Travel the LEGO® galaxy in the ultimate Millen...    75192   \n",
       "7759   Travel the LEGO® galaxy in the ultimate Millen...    75192   \n",
       "8328   Travel the LEGO® galaxy in the ultimate Millen...    75192   \n",
       "8880   Travel the LEGO® galaxy in the ultimate Millen...    75192   \n",
       "9430   Travel the LEGO® galaxy in the ultimate Millen...    75192   \n",
       "9979   Travel the LEGO® galaxy in the ultimate Millen...    75192   \n",
       "10552  Travel the LEGO® galaxy in the ultimate Millen...    75192   \n",
       "11120  Travel the LEGO® galaxy in the ultimate Millen...    75192   \n",
       "11653  Travel the LEGO® galaxy in the ultimate Millen...    75192   \n",
       "12197  Travel the LEGO® galaxy in the ultimate Millen...    75192   \n",
       "\n",
       "                                          prod_long_desc review_difficulty  \\\n",
       "694    Welcome to the largest, most detailed LEGO® St...       Challenging   \n",
       "1320   Welcome to the largest, most detailed LEGO® St...       Challenging   \n",
       "1897   Welcome to the largest, most detailed LEGO® St...       Challenging   \n",
       "2462   Welcome to the largest, most detailed LEGO® St...       Challenging   \n",
       "3220   Welcome to the largest, most detailed LEGO® St...       Challenging   \n",
       "3844   Welcome to the largest, most detailed LEGO® St...       Challenging   \n",
       "4396   Welcome to the largest, most detailed LEGO® St...       Challenging   \n",
       "4944   Welcome to the largest, most detailed LEGO® St...       Challenging   \n",
       "5517   Welcome to the largest, most detailed LEGO® St...       Challenging   \n",
       "6068   Welcome to the largest, most detailed LEGO® St...       Challenging   \n",
       "6617   Welcome to the largest, most detailed LEGO® St...       Challenging   \n",
       "7184   Welcome to the largest, most detailed LEGO® St...       Challenging   \n",
       "7759   Welcome to the largest, most detailed LEGO® St...       Challenging   \n",
       "8328   Welcome to the largest, most detailed LEGO® St...       Challenging   \n",
       "8880   Welcome to the largest, most detailed LEGO® St...       Challenging   \n",
       "9430   Welcome to the largest, most detailed LEGO® St...       Challenging   \n",
       "9979   Welcome to the largest, most detailed LEGO® St...       Challenging   \n",
       "10552  Welcome to the largest, most detailed LEGO® St...       Challenging   \n",
       "11120  Welcome to the largest, most detailed LEGO® St...       Challenging   \n",
       "11653  Welcome to the largest, most detailed LEGO® St...       Challenging   \n",
       "12197  Welcome to the largest, most detailed LEGO® St...       Challenging   \n",
       "\n",
       "                 set_name  star_rating  theme_name  val_star_rating country  \n",
       "694    Millennium Falcon™          4.8  Star Wars™              4.4      US  \n",
       "1320   Millennium Falcon™          4.8  Star Wars™              4.4      AU  \n",
       "1897   Millennium Falcon™          4.8  Star Wars™              4.4      AT  \n",
       "2462   Millennium Falcon™          4.8  Star Wars™              4.4      BE  \n",
       "3220   Millennium Falcon™          4.8  Star Wars™              4.4      CA  \n",
       "3844   Millennium Falcon™          4.8  Star Wars™              4.4      CH  \n",
       "4396   Millennium Falcon™          4.8  Star Wars™              4.4      CZ  \n",
       "4944   Millennium Falcon™          4.8  Star Wars™              4.4      DE  \n",
       "5517   Millennium Falcon™          4.8  Star Wars™              4.4      DN  \n",
       "6068   Millennium Falcon™          4.8  Star Wars™              4.4      ES  \n",
       "6617   Millennium Falcon™          4.8  Star Wars™              4.4      FI  \n",
       "7184   Millennium Falcon™          4.8  Star Wars™              4.4      FR  \n",
       "7759   Millennium Falcon™          4.8  Star Wars™              4.4      GB  \n",
       "8328   Millennium Falcon™          4.8  Star Wars™              4.4      IE  \n",
       "8880   Millennium Falcon™          4.8  Star Wars™              4.4      IT  \n",
       "9430   Millennium Falcon™          4.8  Star Wars™              4.4      LU  \n",
       "9979   Millennium Falcon™          4.8  Star Wars™              4.4      NO  \n",
       "10552  Millennium Falcon™          4.8  Star Wars™              4.4      NL  \n",
       "11120  Millennium Falcon™          4.8  Star Wars™              4.4      NZ  \n",
       "11653  Millennium Falcon™          4.8  Star Wars™              4.4      PL  \n",
       "12197  Millennium Falcon™          4.8  Star Wars™              4.4      PT  "
      ]
     },
     "execution_count": 11,
     "metadata": {},
     "output_type": "execute_result"
    }
   ],
   "source": [
    "df.query('piece_count==7541')"
   ]
  },
  {
   "cell_type": "markdown",
   "metadata": {},
   "source": [
    "## 3.1 Distribution of Ages"
   ]
  },
  {
   "cell_type": "code",
   "execution_count": 12,
   "metadata": {},
   "outputs": [
    {
     "data": {
      "text/plain": [
       "<matplotlib.axes._subplots.AxesSubplot at 0x1ac9b72dbb0>"
      ]
     },
     "execution_count": 12,
     "metadata": {},
     "output_type": "execute_result"
    },
    {
     "data": {
      "image/png": "[encoded data removed]",
      "text/plain": [
       "<Figure size 432x288 with 1 Axes>"
      ]
     },
     "metadata": {
      "needs_background": "light"
     },
     "output_type": "display_data"
    }
   ],
   "source": [
    "df['ages'].value_counts().head(10).sort_values().plot(kind='barh',color='coral')"
   ]
  },
  {
   "cell_type": "code",
   "execution_count": 13,
   "metadata": {},
   "outputs": [
    {
     "data": {
      "image/png": "[encoded data removed]",
      "text/plain": [
       "<Figure size 432x288 with 1 Axes>"
      ]
     },
     "metadata": {
      "needs_background": "light"
     },
     "output_type": "display_data"
    }
   ],
   "source": [
    "ax=df['ages'].value_counts().head(10).sort_values().plot(kind='barh',color='coral')\n",
    "ax.set_alpha(0.8)\n",
    "ax.set_title(\"age distribution\", fontsize=18)\n",
    "ax.set_ylabel(\"ages\", fontsize=18)\n",
    "total=len(df)\n",
    "for p in ax.patches:\n",
    "        percentage = '{:.1f}%'.format(100 * p.get_width()/total)\n",
    "        x = p.get_x() + p.get_width() + 0.02\n",
    "        y = p.get_y() + p.get_height()/2\n",
    "        ax.annotate(percentage, (x, y))"
   ]
  },
  {
   "cell_type": "markdown",
   "metadata": {},
   "source": [
    "## 3.2 Ages and Average Price of the Lego Sets"
   ]
  },
  {
   "cell_type": "code",
   "execution_count": 14,
   "metadata": {},
   "outputs": [
    {
     "data": {
      "text/plain": [
       "Text(0.5, 0, 'average price')"
      ]
     },
     "execution_count": 14,
     "metadata": {},
     "output_type": "execute_result"
    },
    {
     "data": {
      "image/png": "[encoded data removed]",
      "text/plain": [
       "<Figure size 432x288 with 1 Axes>"
      ]
     },
     "metadata": {
      "needs_background": "light"
     },
     "output_type": "display_data"
    }
   ],
   "source": [
    "ax=df.groupby(['ages']).mean().head(10).sort_values(['list_price'])['list_price'].plot(kind='barh')\n",
    "\n",
    "ax.set_title(\"ages and average price\", fontsize=18)\n",
    "ax.set_ylabel(\"ages\", fontsize=18)\n",
    "ax.set_xlabel(\"average price\")"
   ]
  },
  {
   "cell_type": "markdown",
   "metadata": {},
   "source": [
    "## 4 Theme Analysis"
   ]
  },
  {
   "cell_type": "code",
   "execution_count": 15,
   "metadata": {},
   "outputs": [
    {
     "data": {
      "text/plain": [
       "count          12258\n",
       "unique            40\n",
       "top       Star Wars™\n",
       "freq            1377\n",
       "Name: theme_name, dtype: object"
      ]
     },
     "execution_count": 15,
     "metadata": {},
     "output_type": "execute_result"
    }
   ],
   "source": [
    "df['theme_name'].describe()"
   ]
  },
  {
   "cell_type": "markdown",
   "metadata": {},
   "source": [
    "## 4.1 Top 10 Popular Theme"
   ]
  },
  {
   "cell_type": "code",
   "execution_count": 16,
   "metadata": {},
   "outputs": [
    {
     "data": {
      "image/png": "[encoded data removed]",
      "text/plain": [
       "<Figure size 432x288 with 1 Axes>"
      ]
     },
     "metadata": {
      "needs_background": "light"
     },
     "output_type": "display_data"
    }
   ],
   "source": [
    "ax=df['theme_name'].value_counts().head(10).sort_values().plot(kind='barh')\n",
    "ax.set_alpha(0.8)\n",
    "ax.set_title(\"theme name and percentage\", fontsize=18)\n",
    "ax.set_ylabel(\"theme\", fontsize=18)\n",
    "total=len(df)\n",
    "for p in ax.patches:\n",
    "        percentage = '{:.1f}%'.format(100 * p.get_width()/total)\n",
    "        x = p.get_x() + p.get_width() + 0.02\n",
    "        y = p.get_y() + p.get_height()/2\n",
    "        ax.annotate(percentage, (x, y))"
   ]
  },
  {
   "cell_type": "markdown",
   "metadata": {},
   "source": [
    "## 4.2 Theme Name and Average Price"
   ]
  },
  {
   "cell_type": "code",
   "execution_count": 27,
   "metadata": {},
   "outputs": [
    {
     "data": {
      "image/png": "[encoded data removed]",
      "text/plain": [
       "<Figure size 432x288 with 1 Axes>"
      ]
     },
     "metadata": {
      "needs_background": "light"
     },
     "output_type": "display_data"
    }
   ],
   "source": [
    "ax=df.groupby(['theme_name']).mean().head(10).sort_values(['list_price'])['list_price'].plot(kind='barh',y='average price')\n",
    "\n",
    "ax.set_title(\"theme name and average price\", fontsize=18)\n",
    "ax.set_ylabel(\"theme\", fontsize=18)\n",
    "for p in ax.patches:\n",
    "        value=round(p.get_width(),2)\n",
    "        x = p.get_x() + p.get_width() + 0.02\n",
    "        y = p.get_y() + p.get_height()/2\n",
    "        ax.annotate(value, (x, y))"
   ]
  },
  {
   "cell_type": "markdown",
   "metadata": {},
   "source": [
    "## 4.3 Theme & Review Difficulty"
   ]
  },
  {
   "cell_type": "code",
   "execution_count": null,
   "metadata": {},
   "outputs": [],
   "source": [
    "df['review_difficulty'].value_counts()"
   ]
  },
  {
   "cell_type": "markdown",
   "metadata": {},
   "source": [
    "## Relation between Review Difficulty and Price in scatter plot. not sure if I can do boxplot"
   ]
  },
  {
   "cell_type": "code",
   "execution_count": 21,
   "metadata": {},
   "outputs": [
    {
     "ename": "TypeError",
     "evalue": "'value' must be an instance of str or bytes, not a float",
     "output_type": "error",
     "traceback": [
      "\u001b[1;31m---------------------------------------------------------------------------\u001b[0m",
      "\u001b[1;31mTypeError\u001b[0m                                 Traceback (most recent call last)",
      "\u001b[1;32m<ipython-input-21-0192a16393c6>\u001b[0m in \u001b[0;36m<module>\u001b[1;34m\u001b[0m\n\u001b[0;32m      1\u001b[0m \u001b[0mx\u001b[0m\u001b[1;33m=\u001b[0m\u001b[0mdf\u001b[0m\u001b[1;33m[\u001b[0m\u001b[1;34m'review_difficulty'\u001b[0m\u001b[1;33m]\u001b[0m\u001b[1;33m\u001b[0m\u001b[1;33m\u001b[0m\u001b[0m\n\u001b[0;32m      2\u001b[0m \u001b[0my\u001b[0m\u001b[1;33m=\u001b[0m\u001b[0mdf\u001b[0m\u001b[1;33m[\u001b[0m\u001b[1;34m'list_price'\u001b[0m\u001b[1;33m]\u001b[0m\u001b[1;33m\u001b[0m\u001b[1;33m\u001b[0m\u001b[0m\n\u001b[1;32m----> 3\u001b[1;33m \u001b[0mplt\u001b[0m\u001b[1;33m.\u001b[0m\u001b[0mscatter\u001b[0m\u001b[1;33m(\u001b[0m\u001b[0mx\u001b[0m\u001b[1;33m,\u001b[0m\u001b[0my\u001b[0m\u001b[1;33m)\u001b[0m\u001b[1;33m\u001b[0m\u001b[1;33m\u001b[0m\u001b[0m\n\u001b[0m\u001b[0;32m      4\u001b[0m \u001b[1;31m#print(plt.xlabel)\u001b[0m\u001b[1;33m\u001b[0m\u001b[1;33m\u001b[0m\u001b[1;33m\u001b[0m\u001b[0m\n\u001b[0;32m      5\u001b[0m \u001b[0mplt\u001b[0m\u001b[1;33m.\u001b[0m\u001b[0mxlabel\u001b[0m\u001b[1;33m(\u001b[0m\u001b[1;34m'review difficulty'\u001b[0m\u001b[1;33m)\u001b[0m\u001b[1;33m\u001b[0m\u001b[1;33m\u001b[0m\u001b[0m\n",
      "\u001b[1;32m~\\anaconda3\\New folder\\lib\\site-packages\\matplotlib\\pyplot.py\u001b[0m in \u001b[0;36mscatter\u001b[1;34m(x, y, s, c, marker, cmap, norm, vmin, vmax, alpha, linewidths, verts, edgecolors, plotnonfinite, data, **kwargs)\u001b[0m\n\u001b[0;32m   2809\u001b[0m         \u001b[0mverts\u001b[0m\u001b[1;33m=\u001b[0m\u001b[0mcbook\u001b[0m\u001b[1;33m.\u001b[0m\u001b[0mdeprecation\u001b[0m\u001b[1;33m.\u001b[0m\u001b[0m_deprecated_parameter\u001b[0m\u001b[1;33m,\u001b[0m\u001b[1;33m\u001b[0m\u001b[1;33m\u001b[0m\u001b[0m\n\u001b[0;32m   2810\u001b[0m         edgecolors=None, *, plotnonfinite=False, data=None, **kwargs):\n\u001b[1;32m-> 2811\u001b[1;33m     __ret = gca().scatter(\n\u001b[0m\u001b[0;32m   2812\u001b[0m         \u001b[0mx\u001b[0m\u001b[1;33m,\u001b[0m \u001b[0my\u001b[0m\u001b[1;33m,\u001b[0m \u001b[0ms\u001b[0m\u001b[1;33m=\u001b[0m\u001b[0ms\u001b[0m\u001b[1;33m,\u001b[0m \u001b[0mc\u001b[0m\u001b[1;33m=\u001b[0m\u001b[0mc\u001b[0m\u001b[1;33m,\u001b[0m \u001b[0mmarker\u001b[0m\u001b[1;33m=\u001b[0m\u001b[0mmarker\u001b[0m\u001b[1;33m,\u001b[0m \u001b[0mcmap\u001b[0m\u001b[1;33m=\u001b[0m\u001b[0mcmap\u001b[0m\u001b[1;33m,\u001b[0m \u001b[0mnorm\u001b[0m\u001b[1;33m=\u001b[0m\u001b[0mnorm\u001b[0m\u001b[1;33m,\u001b[0m\u001b[1;33m\u001b[0m\u001b[1;33m\u001b[0m\u001b[0m\n\u001b[0;32m   2813\u001b[0m         \u001b[0mvmin\u001b[0m\u001b[1;33m=\u001b[0m\u001b[0mvmin\u001b[0m\u001b[1;33m,\u001b[0m \u001b[0mvmax\u001b[0m\u001b[1;33m=\u001b[0m\u001b[0mvmax\u001b[0m\u001b[1;33m,\u001b[0m \u001b[0malpha\u001b[0m\u001b[1;33m=\u001b[0m\u001b[0malpha\u001b[0m\u001b[1;33m,\u001b[0m \u001b[0mlinewidths\u001b[0m\u001b[1;33m=\u001b[0m\u001b[0mlinewidths\u001b[0m\u001b[1;33m,\u001b[0m\u001b[1;33m\u001b[0m\u001b[1;33m\u001b[0m\u001b[0m\n",
      "\u001b[1;32m~\\anaconda3\\New folder\\lib\\site-packages\\matplotlib\\__init__.py\u001b[0m in \u001b[0;36minner\u001b[1;34m(ax, data, *args, **kwargs)\u001b[0m\n\u001b[0;32m   1563\u001b[0m     \u001b[1;32mdef\u001b[0m \u001b[0minner\u001b[0m\u001b[1;33m(\u001b[0m\u001b[0max\u001b[0m\u001b[1;33m,\u001b[0m \u001b[1;33m*\u001b[0m\u001b[0margs\u001b[0m\u001b[1;33m,\u001b[0m \u001b[0mdata\u001b[0m\u001b[1;33m=\u001b[0m\u001b[1;32mNone\u001b[0m\u001b[1;33m,\u001b[0m \u001b[1;33m**\u001b[0m\u001b[0mkwargs\u001b[0m\u001b[1;33m)\u001b[0m\u001b[1;33m:\u001b[0m\u001b[1;33m\u001b[0m\u001b[1;33m\u001b[0m\u001b[0m\n\u001b[0;32m   1564\u001b[0m         \u001b[1;32mif\u001b[0m \u001b[0mdata\u001b[0m \u001b[1;32mis\u001b[0m \u001b[1;32mNone\u001b[0m\u001b[1;33m:\u001b[0m\u001b[1;33m\u001b[0m\u001b[1;33m\u001b[0m\u001b[0m\n\u001b[1;32m-> 1565\u001b[1;33m             \u001b[1;32mreturn\u001b[0m \u001b[0mfunc\u001b[0m\u001b[1;33m(\u001b[0m\u001b[0max\u001b[0m\u001b[1;33m,\u001b[0m \u001b[1;33m*\u001b[0m\u001b[0mmap\u001b[0m\u001b[1;33m(\u001b[0m\u001b[0msanitize_sequence\u001b[0m\u001b[1;33m,\u001b[0m \u001b[0margs\u001b[0m\u001b[1;33m)\u001b[0m\u001b[1;33m,\u001b[0m \u001b[1;33m**\u001b[0m\u001b[0mkwargs\u001b[0m\u001b[1;33m)\u001b[0m\u001b[1;33m\u001b[0m\u001b[1;33m\u001b[0m\u001b[0m\n\u001b[0m\u001b[0;32m   1566\u001b[0m \u001b[1;33m\u001b[0m\u001b[0m\n\u001b[0;32m   1567\u001b[0m         \u001b[0mbound\u001b[0m \u001b[1;33m=\u001b[0m \u001b[0mnew_sig\u001b[0m\u001b[1;33m.\u001b[0m\u001b[0mbind\u001b[0m\u001b[1;33m(\u001b[0m\u001b[0max\u001b[0m\u001b[1;33m,\u001b[0m \u001b[1;33m*\u001b[0m\u001b[0margs\u001b[0m\u001b[1;33m,\u001b[0m \u001b[1;33m**\u001b[0m\u001b[0mkwargs\u001b[0m\u001b[1;33m)\u001b[0m\u001b[1;33m\u001b[0m\u001b[1;33m\u001b[0m\u001b[0m\n",
      "\u001b[1;32m~\\anaconda3\\New folder\\lib\\site-packages\\matplotlib\\cbook\\deprecation.py\u001b[0m in \u001b[0;36mwrapper\u001b[1;34m(*args, **kwargs)\u001b[0m\n\u001b[0;32m    356\u001b[0m                 \u001b[1;34mf\"%(removal)s.  If any parameter follows {name!r}, they \"\u001b[0m\u001b[1;33m\u001b[0m\u001b[1;33m\u001b[0m\u001b[0m\n\u001b[0;32m    357\u001b[0m                 f\"should be pass as keyword, not positionally.\")\n\u001b[1;32m--> 358\u001b[1;33m         \u001b[1;32mreturn\u001b[0m \u001b[0mfunc\u001b[0m\u001b[1;33m(\u001b[0m\u001b[1;33m*\u001b[0m\u001b[0margs\u001b[0m\u001b[1;33m,\u001b[0m \u001b[1;33m**\u001b[0m\u001b[0mkwargs\u001b[0m\u001b[1;33m)\u001b[0m\u001b[1;33m\u001b[0m\u001b[1;33m\u001b[0m\u001b[0m\n\u001b[0m\u001b[0;32m    359\u001b[0m \u001b[1;33m\u001b[0m\u001b[0m\n\u001b[0;32m    360\u001b[0m     \u001b[1;32mreturn\u001b[0m \u001b[0mwrapper\u001b[0m\u001b[1;33m\u001b[0m\u001b[1;33m\u001b[0m\u001b[0m\n",
      "\u001b[1;32m~\\anaconda3\\New folder\\lib\\site-packages\\matplotlib\\axes\\_axes.py\u001b[0m in \u001b[0;36mscatter\u001b[1;34m(self, x, y, s, c, marker, cmap, norm, vmin, vmax, alpha, linewidths, verts, edgecolors, plotnonfinite, **kwargs)\u001b[0m\n\u001b[0;32m   4380\u001b[0m         \u001b[1;31m# Process **kwargs to handle aliases, conflicts with explicit kwargs:\u001b[0m\u001b[1;33m\u001b[0m\u001b[1;33m\u001b[0m\u001b[1;33m\u001b[0m\u001b[0m\n\u001b[0;32m   4381\u001b[0m \u001b[1;33m\u001b[0m\u001b[0m\n\u001b[1;32m-> 4382\u001b[1;33m         \u001b[0mself\u001b[0m\u001b[1;33m.\u001b[0m\u001b[0m_process_unit_info\u001b[0m\u001b[1;33m(\u001b[0m\u001b[0mxdata\u001b[0m\u001b[1;33m=\u001b[0m\u001b[0mx\u001b[0m\u001b[1;33m,\u001b[0m \u001b[0mydata\u001b[0m\u001b[1;33m=\u001b[0m\u001b[0my\u001b[0m\u001b[1;33m,\u001b[0m \u001b[0mkwargs\u001b[0m\u001b[1;33m=\u001b[0m\u001b[0mkwargs\u001b[0m\u001b[1;33m)\u001b[0m\u001b[1;33m\u001b[0m\u001b[1;33m\u001b[0m\u001b[0m\n\u001b[0m\u001b[0;32m   4383\u001b[0m         \u001b[0mx\u001b[0m \u001b[1;33m=\u001b[0m \u001b[0mself\u001b[0m\u001b[1;33m.\u001b[0m\u001b[0mconvert_xunits\u001b[0m\u001b[1;33m(\u001b[0m\u001b[0mx\u001b[0m\u001b[1;33m)\u001b[0m\u001b[1;33m\u001b[0m\u001b[1;33m\u001b[0m\u001b[0m\n\u001b[0;32m   4384\u001b[0m         \u001b[0my\u001b[0m \u001b[1;33m=\u001b[0m \u001b[0mself\u001b[0m\u001b[1;33m.\u001b[0m\u001b[0mconvert_yunits\u001b[0m\u001b[1;33m(\u001b[0m\u001b[0my\u001b[0m\u001b[1;33m)\u001b[0m\u001b[1;33m\u001b[0m\u001b[1;33m\u001b[0m\u001b[0m\n",
      "\u001b[1;32m~\\anaconda3\\New folder\\lib\\site-packages\\matplotlib\\axes\\_base.py\u001b[0m in \u001b[0;36m_process_unit_info\u001b[1;34m(self, xdata, ydata, kwargs)\u001b[0m\n\u001b[0;32m   2071\u001b[0m             \u001b[1;32mreturn\u001b[0m \u001b[0mkwargs\u001b[0m\u001b[1;33m\u001b[0m\u001b[1;33m\u001b[0m\u001b[0m\n\u001b[0;32m   2072\u001b[0m \u001b[1;33m\u001b[0m\u001b[0m\n\u001b[1;32m-> 2073\u001b[1;33m         \u001b[0mkwargs\u001b[0m \u001b[1;33m=\u001b[0m \u001b[0m_process_single_axis\u001b[0m\u001b[1;33m(\u001b[0m\u001b[0mxdata\u001b[0m\u001b[1;33m,\u001b[0m \u001b[0mself\u001b[0m\u001b[1;33m.\u001b[0m\u001b[0mxaxis\u001b[0m\u001b[1;33m,\u001b[0m \u001b[1;34m'xunits'\u001b[0m\u001b[1;33m,\u001b[0m \u001b[0mkwargs\u001b[0m\u001b[1;33m)\u001b[0m\u001b[1;33m\u001b[0m\u001b[1;33m\u001b[0m\u001b[0m\n\u001b[0m\u001b[0;32m   2074\u001b[0m         \u001b[0mkwargs\u001b[0m \u001b[1;33m=\u001b[0m \u001b[0m_process_single_axis\u001b[0m\u001b[1;33m(\u001b[0m\u001b[0mydata\u001b[0m\u001b[1;33m,\u001b[0m \u001b[0mself\u001b[0m\u001b[1;33m.\u001b[0m\u001b[0myaxis\u001b[0m\u001b[1;33m,\u001b[0m \u001b[1;34m'yunits'\u001b[0m\u001b[1;33m,\u001b[0m \u001b[0mkwargs\u001b[0m\u001b[1;33m)\u001b[0m\u001b[1;33m\u001b[0m\u001b[1;33m\u001b[0m\u001b[0m\n\u001b[0;32m   2075\u001b[0m         \u001b[1;32mreturn\u001b[0m \u001b[0mkwargs\u001b[0m\u001b[1;33m\u001b[0m\u001b[1;33m\u001b[0m\u001b[0m\n",
      "\u001b[1;32m~\\anaconda3\\New folder\\lib\\site-packages\\matplotlib\\axes\\_base.py\u001b[0m in \u001b[0;36m_process_single_axis\u001b[1;34m(data, axis, unit_name, kwargs)\u001b[0m\n\u001b[0;32m   2054\u001b[0m                 \u001b[1;31m# We only need to update if there is nothing set yet.\u001b[0m\u001b[1;33m\u001b[0m\u001b[1;33m\u001b[0m\u001b[1;33m\u001b[0m\u001b[0m\n\u001b[0;32m   2055\u001b[0m                 \u001b[1;32mif\u001b[0m \u001b[1;32mnot\u001b[0m \u001b[0maxis\u001b[0m\u001b[1;33m.\u001b[0m\u001b[0mhave_units\u001b[0m\u001b[1;33m(\u001b[0m\u001b[1;33m)\u001b[0m\u001b[1;33m:\u001b[0m\u001b[1;33m\u001b[0m\u001b[1;33m\u001b[0m\u001b[0m\n\u001b[1;32m-> 2056\u001b[1;33m                     \u001b[0maxis\u001b[0m\u001b[1;33m.\u001b[0m\u001b[0mupdate_units\u001b[0m\u001b[1;33m(\u001b[0m\u001b[0mdata\u001b[0m\u001b[1;33m)\u001b[0m\u001b[1;33m\u001b[0m\u001b[1;33m\u001b[0m\u001b[0m\n\u001b[0m\u001b[0;32m   2057\u001b[0m \u001b[1;33m\u001b[0m\u001b[0m\n\u001b[0;32m   2058\u001b[0m             \u001b[1;31m# Check for units in the kwargs, and if present update axis\u001b[0m\u001b[1;33m\u001b[0m\u001b[1;33m\u001b[0m\u001b[1;33m\u001b[0m\u001b[0m\n",
      "\u001b[1;32m~\\anaconda3\\New folder\\lib\\site-packages\\matplotlib\\axis.py\u001b[0m in \u001b[0;36mupdate_units\u001b[1;34m(self, data)\u001b[0m\n\u001b[0;32m   1514\u001b[0m         \u001b[0mneednew\u001b[0m \u001b[1;33m=\u001b[0m \u001b[0mself\u001b[0m\u001b[1;33m.\u001b[0m\u001b[0mconverter\u001b[0m \u001b[1;33m!=\u001b[0m \u001b[0mconverter\u001b[0m\u001b[1;33m\u001b[0m\u001b[1;33m\u001b[0m\u001b[0m\n\u001b[0;32m   1515\u001b[0m         \u001b[0mself\u001b[0m\u001b[1;33m.\u001b[0m\u001b[0mconverter\u001b[0m \u001b[1;33m=\u001b[0m \u001b[0mconverter\u001b[0m\u001b[1;33m\u001b[0m\u001b[1;33m\u001b[0m\u001b[0m\n\u001b[1;32m-> 1516\u001b[1;33m         \u001b[0mdefault\u001b[0m \u001b[1;33m=\u001b[0m \u001b[0mself\u001b[0m\u001b[1;33m.\u001b[0m\u001b[0mconverter\u001b[0m\u001b[1;33m.\u001b[0m\u001b[0mdefault_units\u001b[0m\u001b[1;33m(\u001b[0m\u001b[0mdata\u001b[0m\u001b[1;33m,\u001b[0m \u001b[0mself\u001b[0m\u001b[1;33m)\u001b[0m\u001b[1;33m\u001b[0m\u001b[1;33m\u001b[0m\u001b[0m\n\u001b[0m\u001b[0;32m   1517\u001b[0m         \u001b[1;32mif\u001b[0m \u001b[0mdefault\u001b[0m \u001b[1;32mis\u001b[0m \u001b[1;32mnot\u001b[0m \u001b[1;32mNone\u001b[0m \u001b[1;32mand\u001b[0m \u001b[0mself\u001b[0m\u001b[1;33m.\u001b[0m\u001b[0munits\u001b[0m \u001b[1;32mis\u001b[0m \u001b[1;32mNone\u001b[0m\u001b[1;33m:\u001b[0m\u001b[1;33m\u001b[0m\u001b[1;33m\u001b[0m\u001b[0m\n\u001b[0;32m   1518\u001b[0m             \u001b[0mself\u001b[0m\u001b[1;33m.\u001b[0m\u001b[0mset_units\u001b[0m\u001b[1;33m(\u001b[0m\u001b[0mdefault\u001b[0m\u001b[1;33m)\u001b[0m\u001b[1;33m\u001b[0m\u001b[1;33m\u001b[0m\u001b[0m\n",
      "\u001b[1;32m~\\anaconda3\\New folder\\lib\\site-packages\\matplotlib\\category.py\u001b[0m in \u001b[0;36mdefault_units\u001b[1;34m(data, axis)\u001b[0m\n\u001b[0;32m    105\u001b[0m         \u001b[1;31m# the conversion call stack is default_units -> axis_info -> convert\u001b[0m\u001b[1;33m\u001b[0m\u001b[1;33m\u001b[0m\u001b[1;33m\u001b[0m\u001b[0m\n\u001b[0;32m    106\u001b[0m         \u001b[1;32mif\u001b[0m \u001b[0maxis\u001b[0m\u001b[1;33m.\u001b[0m\u001b[0munits\u001b[0m \u001b[1;32mis\u001b[0m \u001b[1;32mNone\u001b[0m\u001b[1;33m:\u001b[0m\u001b[1;33m\u001b[0m\u001b[1;33m\u001b[0m\u001b[0m\n\u001b[1;32m--> 107\u001b[1;33m             \u001b[0maxis\u001b[0m\u001b[1;33m.\u001b[0m\u001b[0mset_units\u001b[0m\u001b[1;33m(\u001b[0m\u001b[0mUnitData\u001b[0m\u001b[1;33m(\u001b[0m\u001b[0mdata\u001b[0m\u001b[1;33m)\u001b[0m\u001b[1;33m)\u001b[0m\u001b[1;33m\u001b[0m\u001b[1;33m\u001b[0m\u001b[0m\n\u001b[0m\u001b[0;32m    108\u001b[0m         \u001b[1;32melse\u001b[0m\u001b[1;33m:\u001b[0m\u001b[1;33m\u001b[0m\u001b[1;33m\u001b[0m\u001b[0m\n\u001b[0;32m    109\u001b[0m             \u001b[0maxis\u001b[0m\u001b[1;33m.\u001b[0m\u001b[0munits\u001b[0m\u001b[1;33m.\u001b[0m\u001b[0mupdate\u001b[0m\u001b[1;33m(\u001b[0m\u001b[0mdata\u001b[0m\u001b[1;33m)\u001b[0m\u001b[1;33m\u001b[0m\u001b[1;33m\u001b[0m\u001b[0m\n",
      "\u001b[1;32m~\\anaconda3\\New folder\\lib\\site-packages\\matplotlib\\category.py\u001b[0m in \u001b[0;36m__init__\u001b[1;34m(self, data)\u001b[0m\n\u001b[0;32m    173\u001b[0m         \u001b[0mself\u001b[0m\u001b[1;33m.\u001b[0m\u001b[0m_counter\u001b[0m \u001b[1;33m=\u001b[0m \u001b[0mitertools\u001b[0m\u001b[1;33m.\u001b[0m\u001b[0mcount\u001b[0m\u001b[1;33m(\u001b[0m\u001b[1;33m)\u001b[0m\u001b[1;33m\u001b[0m\u001b[1;33m\u001b[0m\u001b[0m\n\u001b[0;32m    174\u001b[0m         \u001b[1;32mif\u001b[0m \u001b[0mdata\u001b[0m \u001b[1;32mis\u001b[0m \u001b[1;32mnot\u001b[0m \u001b[1;32mNone\u001b[0m\u001b[1;33m:\u001b[0m\u001b[1;33m\u001b[0m\u001b[1;33m\u001b[0m\u001b[0m\n\u001b[1;32m--> 175\u001b[1;33m             \u001b[0mself\u001b[0m\u001b[1;33m.\u001b[0m\u001b[0mupdate\u001b[0m\u001b[1;33m(\u001b[0m\u001b[0mdata\u001b[0m\u001b[1;33m)\u001b[0m\u001b[1;33m\u001b[0m\u001b[1;33m\u001b[0m\u001b[0m\n\u001b[0m\u001b[0;32m    176\u001b[0m \u001b[1;33m\u001b[0m\u001b[0m\n\u001b[0;32m    177\u001b[0m     \u001b[1;33m@\u001b[0m\u001b[0mstaticmethod\u001b[0m\u001b[1;33m\u001b[0m\u001b[1;33m\u001b[0m\u001b[0m\n",
      "\u001b[1;32m~\\anaconda3\\New folder\\lib\\site-packages\\matplotlib\\category.py\u001b[0m in \u001b[0;36mupdate\u001b[1;34m(self, data)\u001b[0m\n\u001b[0;32m    210\u001b[0m         \u001b[1;32mfor\u001b[0m \u001b[0mval\u001b[0m \u001b[1;32min\u001b[0m \u001b[0mOrderedDict\u001b[0m\u001b[1;33m.\u001b[0m\u001b[0mfromkeys\u001b[0m\u001b[1;33m(\u001b[0m\u001b[0mdata\u001b[0m\u001b[1;33m)\u001b[0m\u001b[1;33m:\u001b[0m\u001b[1;33m\u001b[0m\u001b[1;33m\u001b[0m\u001b[0m\n\u001b[0;32m    211\u001b[0m             \u001b[1;31m# OrderedDict just iterates over unique values in data.\u001b[0m\u001b[1;33m\u001b[0m\u001b[1;33m\u001b[0m\u001b[1;33m\u001b[0m\u001b[0m\n\u001b[1;32m--> 212\u001b[1;33m             \u001b[0mcbook\u001b[0m\u001b[1;33m.\u001b[0m\u001b[0m_check_isinstance\u001b[0m\u001b[1;33m(\u001b[0m\u001b[1;33m(\u001b[0m\u001b[0mstr\u001b[0m\u001b[1;33m,\u001b[0m \u001b[0mbytes\u001b[0m\u001b[1;33m)\u001b[0m\u001b[1;33m,\u001b[0m \u001b[0mvalue\u001b[0m\u001b[1;33m=\u001b[0m\u001b[0mval\u001b[0m\u001b[1;33m)\u001b[0m\u001b[1;33m\u001b[0m\u001b[1;33m\u001b[0m\u001b[0m\n\u001b[0m\u001b[0;32m    213\u001b[0m             \u001b[1;32mif\u001b[0m \u001b[0mconvertible\u001b[0m\u001b[1;33m:\u001b[0m\u001b[1;33m\u001b[0m\u001b[1;33m\u001b[0m\u001b[0m\n\u001b[0;32m    214\u001b[0m                 \u001b[1;31m# this will only be called so long as convertible is True.\u001b[0m\u001b[1;33m\u001b[0m\u001b[1;33m\u001b[0m\u001b[1;33m\u001b[0m\u001b[0m\n",
      "\u001b[1;32m~\\anaconda3\\New folder\\lib\\site-packages\\matplotlib\\cbook\\__init__.py\u001b[0m in \u001b[0;36m_check_isinstance\u001b[1;34m(_types, **kwargs)\u001b[0m\n\u001b[0;32m   2121\u001b[0m     \u001b[1;32mfor\u001b[0m \u001b[0mk\u001b[0m\u001b[1;33m,\u001b[0m \u001b[0mv\u001b[0m \u001b[1;32min\u001b[0m \u001b[0mkwargs\u001b[0m\u001b[1;33m.\u001b[0m\u001b[0mitems\u001b[0m\u001b[1;33m(\u001b[0m\u001b[1;33m)\u001b[0m\u001b[1;33m:\u001b[0m\u001b[1;33m\u001b[0m\u001b[1;33m\u001b[0m\u001b[0m\n\u001b[0;32m   2122\u001b[0m         \u001b[1;32mif\u001b[0m \u001b[1;32mnot\u001b[0m \u001b[0misinstance\u001b[0m\u001b[1;33m(\u001b[0m\u001b[0mv\u001b[0m\u001b[1;33m,\u001b[0m \u001b[0mtypes\u001b[0m\u001b[1;33m)\u001b[0m\u001b[1;33m:\u001b[0m\u001b[1;33m\u001b[0m\u001b[1;33m\u001b[0m\u001b[0m\n\u001b[1;32m-> 2123\u001b[1;33m             raise TypeError(\n\u001b[0m\u001b[0;32m   2124\u001b[0m                 \"{!r} must be an instance of {}, not a {}\".format(\n\u001b[0;32m   2125\u001b[0m                     \u001b[0mk\u001b[0m\u001b[1;33m,\u001b[0m\u001b[1;33m\u001b[0m\u001b[1;33m\u001b[0m\u001b[0m\n",
      "\u001b[1;31mTypeError\u001b[0m: 'value' must be an instance of str or bytes, not a float"
     ]
    },
    {
     "data": {
      "image/png": "[encoded data removed]",
      "text/plain": [
       "<Figure size 432x288 with 1 Axes>"
      ]
     },
     "metadata": {
      "needs_background": "light"
     },
     "output_type": "display_data"
    }
   ],
   "source": [
    "x=df['review_difficulty']\n",
    "y=df['list_price']\n",
    "plt.scatter(x,y)\n",
    "#print(plt.xlabel)\n",
    "plt.xlabel('review difficulty')\n",
    "plt.ylabel('list price')\n",
    "plt.title('review difficulty v.s. list_price')\n",
    "plt.legend()\n",
    "plt.show()"
   ]
  },
  {
   "cell_type": "markdown",
   "metadata": {},
   "source": [
    "## Relation between Star Rating and Price"
   ]
  },
  {
   "cell_type": "markdown",
   "metadata": {},
   "source": [
    "## Relation between Pieces Count and Price. Need to add the correlation line."
   ]
  },
  {
   "cell_type": "code",
   "execution_count": 24,
   "metadata": {},
   "outputs": [
    {
     "name": "stderr",
     "output_type": "stream",
     "text": [
      "No handles with labels found to put in legend.\n"
     ]
    },
    {
     "data": {
      "image/png": "[encoded data removed]",
      "text/plain": [
       "<Figure size 432x288 with 1 Axes>"
      ]
     },
     "metadata": {
      "needs_background": "light"
     },
     "output_type": "display_data"
    }
   ],
   "source": [
    "y=df['list_price']\n",
    "x=df['piece_count']\n",
    "plt.scatter(x,y)\n",
    "plt.xlabel('pieces')\n",
    "plt.ylabel('price')\n",
    "plt.title('price v.s. pieces')\n",
    "m, b = np.polyfit(x, y, 1)\n",
    "plt.plot(x, m*x + b,color=\"red\")\n",
    "plt.legend()\n",
    "plt.show()"
   ]
  },
  {
   "cell_type": "markdown",
   "metadata": {},
   "source": [
    "## Relation between Number of Reivews and Price"
   ]
  },
  {
   "cell_type": "code",
   "execution_count": 20,
   "metadata": {},
   "outputs": [
    {
     "name": "stderr",
     "output_type": "stream",
     "text": [
      "No handles with labels found to put in legend.\n"
     ]
    },
    {
     "data": {
      "image/png": "[encoded data removed]",
      "text/plain": [
       "<Figure size 432x288 with 1 Axes>"
      ]
     },
     "metadata": {
      "needs_background": "light"
     },
     "output_type": "display_data"
    }
   ],
   "source": [
    "y=df['list_price']\n",
    "x=df['num_reviews']\n",
    "plt.scatter(x,y)\n",
    "plt.xlabel(\"Number of Reviews\")\n",
    "plt.ylabel(\"Price\")\n",
    "plt.title(\"Reviews v.s.Price\")\n",
    "plt.legend()\n",
    "plt.show()"
   ]
  },
  {
   "cell_type": "code",
   "execution_count": null,
   "metadata": {},
   "outputs": [],
   "source": [
    "def search_id(x):\n",
    "    x==int(input(\"Please enter product id\"))\n",
    "    if x in df['prod_id']:\n",
    "        print(x)\n",
    "    else: \n",
    "        print(\"not in the list\")\n",
    "search_id\n",
    "   "
   ]
  }
 ],
 "metadata": {
  "kernelspec": {
   "display_name": "Python 3",
   "language": "python",
   "name": "python3"
  },
  "language_info": {
   "codemirror_mode": {
    "name": "ipython",
    "version": 3
   },
   "file_extension": ".py",
   "mimetype": "text/x-python",
   "name": "python",
   "nbconvert_exporter": "python",
   "pygments_lexer": "ipython3",
   "version": "3.8.3"
  }
 },
 "nbformat": 4,
 "nbformat_minor": 4
}
